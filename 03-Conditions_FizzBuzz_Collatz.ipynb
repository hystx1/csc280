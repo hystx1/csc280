{
 "cells": [
  {
   "cell_type": "markdown",
   "metadata": {},
   "source": [
    "# CSC280, Introduction to Computer Science I\n",
    "# Prof. Adam C. Knapp\n",
    "# Conditons, Fizz Buzz, and Collatz\n",
    "\n",
    "Ok, today we are going to start off by learning a few more Python language constructs. These are a little different what we have learned so far. So far, what we have written looks a lot like a recipe in a cookbook: There is a first, second, third step, etc. You just go from one thing to the next --- there aren't any choices. \n",
    "\n",
    "That doesn't make for a very interesting program.\n",
    "\n",
    "An interesting program will do things like ask questions and interact with its environment. There are _choices_ to be made. You do this sort of thing every day: You go to the cafeteria and see what's there. If it is good enough, you eat. Otherwise you have make another decision.\n",
    "\n",
    "Python has several different constructions that are useful for making choices. The simplest is the `if` statement. The basic `if` statement needs two things\n",
    "* a condition, which is either true of false\n",
    "* code to run if the condition is _true_\n",
    "For example, suppose that we were curious to learn if the word \"supercalifragilisticexpialidocious\" was longer than \"pneumonoultramicroscopicsilicovolcanoconiosis\". (pretend that you can't just see the length) We could write\n",
    "```\n",
    "supercali = \"supercalifragilisticexpialidocious\"\n",
    "pneumono  = \"pneumonoultramicroscopicsilicovolcanoconiosis\"\n",
    "if len(supercali) < len(pneumono):\n",
    "    print( supercali + \" is shorter than \" + pneumono )\n",
    "```\n",
    "Go ahead and try it below:"
   ]
  },
  {
   "cell_type": "code",
   "execution_count": null,
   "metadata": {},
   "outputs": [],
   "source": []
  },
  {
   "cell_type": "markdown",
   "metadata": {},
   "source": [
    "By the way, notice that the `print` statement is **indented**. This is how Python tells which part of your code is conditional on the `if`. We call that indented a _code block_. (Other languages use things like curly braces `{}` to do the same thing, but even then you expected to indent as a matter of proper style.)\n",
    "\n",
    "Also, notice the `len` method. This takes a string (and several other things) and gives back its length. \n",
    "\n",
    "Now, let's try to enhance our word length code. We want to write some code that reads in two words and compares them to see which one is longer, or if they have the same length. We saw before (in notebook `01`) how to read data from the user using `input`. The new bits that we will need are extensions to `if`.\n",
    "\n",
    "You could _concievably_ write code that looks like this:\n",
    "```\n",
    "if thing1:\n",
    "    do_operation1\n",
    "    \n",
    "if thing2:\n",
    "    do_operation2\n",
    "    \n",
    "if thing3:\n",
    "    do_operation3\n",
    "```\n",
    "But that's not great for our case. We know that _exactly_ one of these things is true:\n",
    "* the first word is longer than the second,\n",
    "* the second word is longer than the first, or\n",
    "* the two words have the same length.\n",
    "\n",
    "If we were to write code with three seperate `if` statements, then it would look like we thought that any combination of these possibilities could be true! For our problem, if we know that `thing1` is true, we never need to check `thing2` or `thing3`! For this sort of situation, we can combine the statements:\n",
    "```\n",
    "if thing1:\n",
    "    do_operation1    \n",
    "elif thing2:\n",
    "    do_operation2  \n",
    "else:\n",
    "    do_operation3\n",
    "```\n",
    "**A thing to think about:** What happened to `thing3`?\n",
    "\n",
    "**Your task:** Write code which reads in two words and tells the user which is shorter, or if the words have the same length. Make sure you test out all 3 possibilities. "
   ]
  },
  {
   "cell_type": "code",
   "execution_count": null,
   "metadata": {},
   "outputs": [],
   "source": []
  },
  {
   "cell_type": "markdown",
   "metadata": {},
   "source": [
    "**Your next task:** Enhance the code; it should also test to see if the two words are actually the same word. You'll need to use the `==` operator to test equality. (Remember that `=` is the _assignment_ operator.)\n",
    "\n",
    "By the way, there is also a not-equal operator: `!=`"
   ]
  },
  {
   "cell_type": "code",
   "execution_count": null,
   "metadata": {},
   "outputs": [],
   "source": []
  },
  {
   "cell_type": "markdown",
   "metadata": {},
   "source": [
    "Pretty soon we'll need to make more complex conditions for `if` statements. We can join together multiple conditons using `and` and `or` and switch truth values using `not`.\n",
    "\n",
    "**Your task:** Explore, by printing, the values of \n",
    "```\n",
    "print( True and True )\n",
    "print( True and False )\n",
    "print( False and True )\n",
    "print( False and False )\n",
    "...\n",
    "```\n",
    "Similarly for `or`. These are called 'Truth-tables' in logic. How does `or` differ from the usual English-language usage of \"or\"?"
   ]
  },
  {
   "cell_type": "code",
   "execution_count": null,
   "metadata": {},
   "outputs": [],
   "source": []
  },
  {
   "cell_type": "markdown",
   "metadata": {},
   "source": [
    "An odd question to think about: There are two [Boolean](https://en.wikipedia.org/wiki/George_Boole) values, `True` and `False`. What is `True + True`? Does that make sense? What does Python think it is? What do you think that means about how Python stores truth values, internally?"
   ]
  },
  {
   "cell_type": "code",
   "execution_count": null,
   "metadata": {},
   "outputs": [],
   "source": []
  },
  {
   "cell_type": "markdown",
   "metadata": {},
   "source": [
    "There is an [infamous](https://blog.codinghorror.com/why-cant-programmers-program/) programming interview question called [FizzBuzz](https://en.wikipedia.org/wiki/Fizz_buzz), based on a kid's mathematics teaching game from the UK:\n",
    "\n",
    "> Write a program that prints the numbers from 1 to 100. But for multiples of three print \"Fizz\" instead of the number and for the multiples of five print \"Buzz\". For numbers which are multiples of both three and five print \"FizzBuzz\".\n",
    "\n",
    "(When you get a chance, you really should follow that first link.)\n",
    "\n",
    "**Your primary task:** Write the FizzBuzz program. (You'll need the modulus, `%`, operator we used in notebook `01`.)\n",
    "\n",
    "**Your secondary task:** What kinds of errors do you think that interviewees make? Remember that details matter!"
   ]
  },
  {
   "cell_type": "code",
   "execution_count": null,
   "metadata": {},
   "outputs": [],
   "source": []
  },
  {
   "cell_type": "markdown",
   "metadata": {},
   "source": [
    "Another kind of conditional is a kind of chimera, mixing properties of `if` and `for`. It goes by the name `while` and like `for`, `while` loops --- it repeats the same block of code over and over again. However, like `if`, `while` is checking a Boolean statement.\n",
    "\n",
    "(Alternatively, you can think of `for`-loops as being a special kind of `while`.)\n",
    "\n",
    "`while` shows up when we want to repeat some block of code as long as (i.e. while) some condition is true. For example, suppose that we wanted to ask the user if they really want to do something:\n",
    "```\n",
    "choice = input('Are you sure you want to rm -rf / ?')\n",
    "while choice != 'yes' and choice != 'no':\n",
    "    choice = input('I didn\\'t understand, please type \\'yes\\' or \\'no\\'.')\n",
    "if choice == 'yes':\n",
    "    print('Ok, deleting all files')\n",
    "else:\n",
    "    print('Ok, since you aren\\'t sure, I\\'ll just make the choice for you. Deleting all files.')\n",
    "```\n",
    "Try it out."
   ]
  },
  {
   "cell_type": "code",
   "execution_count": null,
   "metadata": {},
   "outputs": [],
   "source": []
  },
  {
   "cell_type": "markdown",
   "metadata": {},
   "source": [
    "# Collatz Conjecture\n",
    "\n",
    "![The Strong Collatz Conjecture states that this holds for any set of obsessively-hand-applied rules.](https://imgs.xkcd.com/comics/collatz_conjecture.png)\n",
    "\n",
    "The [Collatz conjecture](https://en.wikipedia.org/wiki/Collatz_conjecture) says that if you take _any positive whole number_ $n$ and repeatedly get a new value for $n$ by the proceedure:\n",
    "* if $n$ is even, divide by 2 and\n",
    "* if $n$ is odd, take $3n+1$.\n",
    "\n",
    "Then you will eventually get to $n=1$.\n",
    "\n",
    "The late, great mathematician Paul Erdős said the follwing about the Collatz conjecture: \"Mathematics may not be ready for such problems.\" None the less, we can verify that it is true for many, many examples!\n",
    "\n",
    "**Your task:** Write a program which reads in a number from the user, then prints out the corresponding Collatz sequence. Your program should halt when you reach 1. (Print that 1!)"
   ]
  },
  {
   "cell_type": "code",
   "execution_count": null,
   "metadata": {},
   "outputs": [],
   "source": []
  }
 ],
 "metadata": {
  "kernelspec": {
   "display_name": "Python 3",
   "language": "python",
   "name": "python3"
  },
  "language_info": {
   "codemirror_mode": {
    "name": "ipython",
    "version": 3
   },
   "file_extension": ".py",
   "mimetype": "text/x-python",
   "name": "python",
   "nbconvert_exporter": "python",
   "pygments_lexer": "ipython3",
   "version": "3.7.2"
  }
 },
 "nbformat": 4,
 "nbformat_minor": 2
}

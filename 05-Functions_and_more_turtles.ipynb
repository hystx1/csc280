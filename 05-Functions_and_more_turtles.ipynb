{
 "cells": [
  {
   "cell_type": "markdown",
   "metadata": {},
   "source": [
    "# CSC280, Introduction to Computer Science I\n",
    "# Prof. Adam C. Knapp\n",
    "# Functions and more turtles\n",
    "\n",
    "You probably remember the word \"function\" from math class. **In math class**, a function might have looked something like this: $$f(x) = \\sqrt{x^3 - \\frac{\\sqrt{2}}{4}}$$\n",
    "\n",
    "In computer programming, a function acts a little bit similar to functions in math and also a little bit different. Some things which are the **same** are\n",
    "1. Functions take in some number of \"parameters\". In the math function above, we see one parameter, \"$x$\".\n",
    "2. Functions produce some result. This is also known as a \"return value\". In the math function above, the result is whatever you get out when you do the arithmetic in the formula.\n",
    "3. Functions can be \"composed\" with other functions. You might have seen something like $f(g(x))$ in math; we can do that in CS as well. It is a **powerful** concept. \n",
    "\n",
    "Some things which are **different** in computer science are \n",
    "1. Functions can take parameters which are not numbers, or no parameters at all.\n",
    "2. Functions can return things that are not numbers, or nothing at all.\n",
    "3. Functions can do things other than produce a return value. e.g. print to the screen, draw a picture, communicate over the network.\n",
    "4. Functions do not have to produce the same return value when you give it the same parameters. ex: `random()` takes no parameters at all, and gives different return values all the time. (However, it is good practice to limit this sort of behavior.)\n"
   ]
  },
  {
   "cell_type": "markdown",
   "metadata": {},
   "source": [
    "You have alredy been using a few different functions. When we learned about lists, you learned about the length function `len`. For example, in the code below, `len` takes the list `l` as a parameter. It returns an integer which then gets stored in the variable `n`\n",
    "```\n",
    "l = ['zero', 'one', 'two', 'three', 'four']\n",
    "n = len(l)\n",
    "```\n",
    "Let's write a function which finds the middle element of a list:\n",
    "```\n",
    "def middle(lst):\n",
    "    return lst[ len(lst)//2 ]\n",
    "```\n",
    "Things to notice:\n",
    "1. The `def` keyword starts a function definition\n",
    "2. The function is named `middle` and takes one parameter, `lst`\n",
    "3. The function uses the `return` keyword to produce a value.\n",
    "\n",
    "**Type this function in the cell below and use it to find the middle value of:**\n",
    "```\n",
    "characters  = [ chr(0x2195+n) for n in range(40) ]\n",
    "```\n",
    "You should get the character '↩'. "
   ]
  },
  {
   "cell_type": "code",
   "execution_count": null,
   "metadata": {},
   "outputs": [],
   "source": []
  },
  {
   "cell_type": "markdown",
   "metadata": {},
   "source": [
    "Like we said, functions do not have to return any value. Let's write a \"greeter\". Write a function called `greeter` which takes one parameter `name` and prints a greeting using that name.\n",
    "\n",
    "For example, if you make the function call `greeter(\"Adam\")`, the program should print \n",
    "```\n",
    "Hello, Adam!\n",
    "```"
   ]
  },
  {
   "cell_type": "code",
   "execution_count": null,
   "metadata": {},
   "outputs": [],
   "source": []
  },
  {
   "cell_type": "markdown",
   "metadata": {},
   "source": [
    "## Returning vs. printing\n",
    "\n",
    "Here is a point some people get confused about when they use a REPL: when should I use `return` and when should I use `print`?\n",
    "\n",
    "**Guidline**: If you compute something inside a function, *only use `print` when*\n",
    "\n",
    "1. You are debugging and want to inspect a (temporary) value, or\n",
    "1. You are prompting the user, or\n",
    "1. You will never use the value inside the program again and want to display it to the user.\n",
    "\n",
    "For example, what is wrong with the code below? By _**wrong**_, we mean something like \"what design decision was made that makes this less useful than it could be?\"\n",
    "```\n",
    "def fib(n):\n",
    "    a, b = 0, 1\n",
    "    for _ in range(n):\n",
    "        a, b = b, a+b\n",
    "    print(a)\n",
    "```\n",
    "**Write code** that accomplishes the same thing in a better way."
   ]
  },
  {
   "cell_type": "code",
   "execution_count": null,
   "metadata": {},
   "outputs": [],
   "source": []
  },
  {
   "cell_type": "code",
   "execution_count": null,
   "metadata": {},
   "outputs": [],
   "source": []
  },
  {
   "cell_type": "code",
   "execution_count": null,
   "metadata": {},
   "outputs": [],
   "source": []
  },
  {
   "cell_type": "code",
   "execution_count": null,
   "metadata": {},
   "outputs": [],
   "source": []
  },
  {
   "cell_type": "markdown",
   "metadata": {},
   "source": [
    "## Turtles\n",
    "\n",
    "Time once again for turtles! This time, we'll use turtles to explore procedures. (By the way, I and others may sometimes call these functions. There is a technical distinction which isn't in the scope of what we are dealing with right now.)\n",
    "\n",
    "Start out by importing the turtle library."
   ]
  },
  {
   "cell_type": "code",
   "execution_count": 2,
   "metadata": {},
   "outputs": [],
   "source": [
    "from turtle import *"
   ]
  },
  {
   "cell_type": "markdown",
   "metadata": {},
   "source": [
    "Now let's create a turtle and make it visible."
   ]
  },
  {
   "cell_type": "code",
   "execution_count": 3,
   "metadata": {},
   "outputs": [],
   "source": [
    "setup(320,300)"
   ]
  },
  {
   "cell_type": "markdown",
   "metadata": {},
   "source": [
    "Let's design some functions for the turtle. Our first one should draw a square. What do you need to know in order to draw a square with a turtle? You need just one thing: **how long the sides should be**\n",
    "\n",
    "Should our procedure return anything? No, drawing a square doesn't compute some value to be used later; it just tells the turtle to do things.\n",
    "\n",
    "So what should a procedure `square` look like? Something like this:\n",
    "```\n",
    "def square(side_len):\n",
    "    do things\n",
    "```\n",
    "**Write `square`**. Then call that procedure by running `square(100)`"
   ]
  },
  {
   "cell_type": "code",
   "execution_count": 3,
   "metadata": {},
   "outputs": [],
   "source": []
  },
  {
   "cell_type": "code",
   "execution_count": 4,
   "metadata": {},
   "outputs": [],
   "source": []
  },
  {
   "cell_type": "markdown",
   "metadata": {},
   "source": [
    "What about a more general regular polygon? A square is just a regular 4-gon. Let's write a new procedure which draws a regular polygon. It should look something like this:\n",
    "```\n",
    "def poly(side_len,num_sides):\n",
    "    do things\n",
    "```\n",
    "We need the other parameter because we need to know how many sides the polygon should have."
   ]
  },
  {
   "cell_type": "code",
   "execution_count": null,
   "metadata": {},
   "outputs": [],
   "source": []
  },
  {
   "cell_type": "code",
   "execution_count": null,
   "metadata": {},
   "outputs": [],
   "source": []
  },
  {
   "cell_type": "markdown",
   "metadata": {},
   "source": [
    "This is kind of fun. Try it out:"
   ]
  },
  {
   "cell_type": "code",
   "execution_count": null,
   "metadata": {},
   "outputs": [],
   "source": [
    "for n in range(10):\n",
    "    poly(10,n)"
   ]
  },
  {
   "cell_type": "markdown",
   "metadata": {},
   "source": [
    "Now that we have `poly`, can you rewrite `square` in a shorter way?"
   ]
  },
  {
   "cell_type": "code",
   "execution_count": null,
   "metadata": {},
   "outputs": [],
   "source": []
  },
  {
   "cell_type": "markdown",
   "metadata": {},
   "source": [
    "What kinds of things do you get when you draw a polygon, rotate a bit, and repeat? \n",
    "\n",
    "**Try it out.**"
   ]
  },
  {
   "cell_type": "code",
   "execution_count": null,
   "metadata": {},
   "outputs": [],
   "source": []
  },
  {
   "cell_type": "code",
   "execution_count": null,
   "metadata": {},
   "outputs": [],
   "source": []
  },
  {
   "cell_type": "markdown",
   "metadata": {},
   "source": [
    "Write a simple procedure which draws the capital letter Y. It should be similar to the ones above in that\n",
    "- you should have the turtle as an argument/parameter\n",
    "- you should have the scale be a parameter\n",
    "- you should have the turtle return to the original starting place at the end\n",
    "\n",
    "Call the procedure \"`draw_y`\""
   ]
  },
  {
   "cell_type": "code",
   "execution_count": null,
   "metadata": {},
   "outputs": [],
   "source": []
  },
  {
   "cell_type": "markdown",
   "metadata": {},
   "source": [
    "> Big fleas have little fleas upon their backs to bite 'em,   \n",
    "> And little fleas have lesser fleas, and so, ad infinitum.  \n",
    "> -- Augustus DeMorgan\n",
    "\n",
    "What if our Y had smaller Y's coming off of the ends of the top lines? And those Y's had smaller Y's coming off of the top of those?\n",
    "\n",
    "We can do that with _recursion_. We just need to modify our `draw_y` procedure in two ways: \n",
    "- it needs to call itself (with a reduced scale parameter) whenever you get to the tops of the Y\n",
    "- it needs to know when to give up. i.e. Draw nothing when the scale gets too small.\n",
    "\n",
    "**Write a `draw_fractal_y` procedure** which does just that."
   ]
  },
  {
   "cell_type": "code",
   "execution_count": null,
   "metadata": {},
   "outputs": [],
   "source": []
  }
 ],
 "metadata": {
  "kernelspec": {
   "display_name": "Python 3",
   "language": "python",
   "name": "python3"
  },
  "language_info": {
   "codemirror_mode": {
    "name": "ipython",
    "version": 3
   },
   "file_extension": ".py",
   "mimetype": "text/x-python",
   "name": "python",
   "nbconvert_exporter": "python",
   "pygments_lexer": "ipython3",
   "version": "3.7.2+"
  }
 },
 "nbformat": 4,
 "nbformat_minor": 2
}

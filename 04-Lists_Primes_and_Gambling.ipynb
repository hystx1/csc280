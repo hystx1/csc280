{
 "cells": [
  {
   "cell_type": "markdown",
   "metadata": {},
   "source": [
    "# CSC280, Introduction to Computer Science I\n",
    "# Prof. Adam C. Knapp\n",
    "# Lists, Primes, and Gambling\n",
    "\n",
    "Regular variables are pretty nice, but they can only store value at a time. A lot of the time, we will need to store _lots_ of data. **Arrays** are one of the ways that we can do that. \"**List**\" is the name of Python's particular version of the array type.\n",
    "\n",
    "You want to think of an list/array as a bunch of things all written down in a row. The syntax looks like this:\n",
    "```\n",
    "arr1 = [\"An\", \"Array\", \"of\", \"strings\"]\n",
    "```\n",
    "Note the square braces and commas. Python's lists can store varied kinds of data, like mixtures of integers and strings:\n",
    "```\n",
    "arr2 = [1, \"hat\"]\n",
    "```\n",
    "I don't really recommend doing that, though. You usually want to be able to do the same operation to every element of the array.\n",
    "\n",
    "So how do we get at the individual elements of a list? Well, if we look at `arr1`, the elements are `arr1[0]`, `arr1[1]`, `arr1[2]`, and `arr1[3]`. Remeber how `range(4)` was 0, 1, 2, 3? Same thing for the list's **indices**.\n",
    "\n",
    "**First task:** Make a list using the code below.\n",
    "```\n",
    "arr = [1, 2, 3, 'four']\n",
    "```\n",
    "Then add a second command which changes `'four'` to `4`."
   ]
  },
  {
   "cell_type": "code",
   "execution_count": null,
   "metadata": {},
   "outputs": [],
   "source": []
  },
  {
   "cell_type": "markdown",
   "metadata": {},
   "source": [
    "Creating lists manually is a pain; by-hand data entry is the worst. That's why we have some nice features like list-comprehension. \n",
    "\n",
    "Suppose that we want to create a list, `numbers`, that contains the numbers one through twenty.\n",
    "```\n",
    "numbers = [ n+1 for n in range(20) ]\n",
    "```\n",
    "**Try it.**"
   ]
  },
  {
   "cell_type": "code",
   "execution_count": null,
   "metadata": {},
   "outputs": [],
   "source": []
  },
  {
   "cell_type": "markdown",
   "metadata": {},
   "source": [
    "Python's lists are \"resizable\". You can add more things onto the end with the `append` command.\n",
    "\n",
    "Try adding the number 21 to the end of `numbers` by:\n",
    "```\n",
    "numbers.append(21)\n",
    "```"
   ]
  },
  {
   "cell_type": "code",
   "execution_count": null,
   "metadata": {},
   "outputs": [],
   "source": []
  },
  {
   "cell_type": "markdown",
   "metadata": {},
   "source": [
    "Can you create a list `squares` which contains the first twenty perfect squares?"
   ]
  },
  {
   "cell_type": "code",
   "execution_count": null,
   "metadata": {},
   "outputs": [],
   "source": []
  },
  {
   "cell_type": "markdown",
   "metadata": {},
   "source": [
    "What about a list `nada` which contains 100 zeros?"
   ]
  },
  {
   "cell_type": "code",
   "execution_count": null,
   "metadata": {},
   "outputs": [],
   "source": []
  },
  {
   "cell_type": "markdown",
   "metadata": {},
   "source": [
    "## [Eratothenes' seive](https://en.wikipedia.org/wiki/Sieve_of_Eratosthenes)\n",
    "\n",
    "Eratosthenese was a Greek mathematician who served as the chief Librarian at the [Library of Alexandria](https://en.wikipedia.org/wiki/Library_of_Alexandria) and was the first known person to calculate the circumference of the Earth. Another of his accomplishments was to find a method (an *algorithm*) for quickly finding prime numbers!\n",
    "\n",
    "Let's program his algorithm in Python and find all of the primes up to 1000!\n",
    "\n",
    "Make a list `is_prime` which contains the value `True` 1001 times."
   ]
  },
  {
   "cell_type": "code",
   "execution_count": null,
   "metadata": {},
   "outputs": [],
   "source": []
  },
  {
   "cell_type": "markdown",
   "metadata": {},
   "source": [
    "We want the list `is_prime` will contain, at index `n`, the answer to the question: \"is `n` prime?\". We know that 0 and 1 are not prime, so let's do those as a special case first.\n",
    "\n",
    "Set `is_prime[0]` and `is_prime[1]` to `False`"
   ]
  },
  {
   "cell_type": "code",
   "execution_count": null,
   "metadata": {},
   "outputs": [],
   "source": []
  },
  {
   "cell_type": "markdown",
   "metadata": {},
   "source": [
    "Now, the main part of the algorithm goes like this:\n",
    "\n",
    "1. Walk down the list until you see a `True`. This should happen at a prime number index. (The first time this will happen at index 2.) \n",
    "2. Give the index a name, `p`\n",
    "3. Starting at index `p`, move `p` steps forward in the list and store a `False` there. Keep doing this until you run off of the list. (index `p` should still read `True`) These correspond to *multiples* of `p` and can't be prime.\n",
    "4. Go back to index `p` and look for the next `True` in the list. If you can find one, go to step 2.\n",
    "\n",
    "We want to write code that performs this algorthim! Before you write any code, think about\n",
    "* What parts of the code repeat?\n",
    "* Do the parts that repeat nest inside each other?\n",
    "* Can you simplify things using `range` with a different step size? Or maybe a `while` loop?\n"
   ]
  },
  {
   "cell_type": "code",
   "execution_count": null,
   "metadata": {},
   "outputs": [],
   "source": []
  },
  {
   "cell_type": "markdown",
   "metadata": {},
   "source": [
    "Write a loop that walks down the `is_prime` list and prints the list index whenever you see a `True`. Those are the primes! What is the largest prime under 1000?"
   ]
  },
  {
   "cell_type": "code",
   "execution_count": null,
   "metadata": {},
   "outputs": [],
   "source": []
  },
  {
   "cell_type": "markdown",
   "metadata": {},
   "source": [
    "## Numpy arrays\n",
    "\n",
    "There's another kind of array which you can use! It comes from a Python library called [NumPy](http://www.numpy.org/) which is a wonderful library for numerical computing in Python. First we have to import it."
   ]
  },
  {
   "cell_type": "code",
   "execution_count": 8,
   "metadata": {},
   "outputs": [],
   "source": [
    "# you don't want to have to type numpy all the time, do you?\n",
    "# nobody else does either, so we can import with an abreviation\n",
    "# this abbrev. is an informal standard\n",
    "import numpy as np"
   ]
  },
  {
   "cell_type": "markdown",
   "metadata": {},
   "source": [
    "There are some pretty typical starting points for numerical computation, like starting with an array of all zeros. NumPy has that. Suppose we want an array of 200 zeros? \n",
    "```\n",
    "np.zeros(shape=200)\n",
    "```\n",
    "**Try it.**\n",
    "\n",
    "They'll be floating point by default, but you can change it. (Look it up in the NumPy docs.)"
   ]
  },
  {
   "cell_type": "code",
   "execution_count": null,
   "metadata": {},
   "outputs": [],
   "source": []
  },
  {
   "cell_type": "markdown",
   "metadata": {},
   "source": [
    "We'll need this below. Suppose that you want something to happen _randomly_, 25% of the time. Well, first you'll need to import the \"random\" package.\n",
    "```\n",
    "import random\n",
    "```\n",
    "That gets you a function which spits out numbers in the interval $[0,1)$, all with equal probability. Now\n",
    "```\n",
    "if random.random() < 0.25:\n",
    "    print(\"it happened\")\n",
    "else:\n",
    "    print(\"it didn't happen\")\n",
    "```\n",
    "You can adjust the probability by changing the `0.25`. **Try it out.**"
   ]
  },
  {
   "cell_type": "code",
   "execution_count": null,
   "metadata": {},
   "outputs": [],
   "source": []
  },
  {
   "cell_type": "code",
   "execution_count": null,
   "metadata": {},
   "outputs": [],
   "source": []
  },
  {
   "cell_type": "markdown",
   "metadata": {},
   "source": [
    "Ok, so let's actually do something with arrays! Maybe you've heard of the [Gambler's Ruin](https://en.wikipedia.org/wiki/Gambler%27s_ruin)? The basic idea is that you have a gambler who starts of with a certain, fixed, amount of money; let's say 10 dollars.\n",
    "\n",
    "Each turn, the gambler bets one dollar on a fair coin flip. \n",
    "* If it's heads, they win two dollars. \n",
    "* If it's tails, they win nothing.\n",
    "\n",
    "Equivalently, each turn they gain or lose a dollar with 50% probability.\n",
    "\n",
    "If the gambler ever runs out of money, they are out. We can mathematically prove that this, essentially, _always_ _happens_.\n",
    "\n",
    "We want to simulate this game and find out how long it usually takes to go broke!\n",
    "\n",
    "Here's what we'll do:\n",
    "* Create an array `data` of all zeros. It should have 4000 elements. We'll use the entry `data[k]` to store the count of the number of times we went broke on the `k+1`st turn. i.e. `data[0]` stores the number of times we went broke on the first turn, `data[1]` on the second turn, etc.\n",
    "* Repeat the following many, many times: (maybe 100,000 times)\n",
    "> - Give the gambler 20 bucks and set the turn count to zero\n",
    "> - As long as the gambler still has money and the turn count is less than 4000, have them make the bet\n",
    "> - Whenever you stop because the gambler has run out of money, update the count in `data` (Don't do anything when the turn count runs over 4000.)\n",
    "\n",
    "\n",
    "Allright, let's get to work! **Write the code with at least one friend. One does the typing, one does the telling.**"
   ]
  },
  {
   "cell_type": "code",
   "execution_count": 40,
   "metadata": {},
   "outputs": [],
   "source": []
  },
  {
   "cell_type": "markdown",
   "metadata": {},
   "source": [
    "Of course, getting a bunch of data is kind of pointless if you can't see it. The code below will use [matplotlib](https://matplotlib.org/) to plot and display it in the notebook."
   ]
  },
  {
   "cell_type": "code",
   "execution_count": 41,
   "metadata": {},
   "outputs": [],
   "source": [
    "# definitely don't want to type _that_ a lot\n",
    "import matplotlib.pyplot as plt\n",
    "# make sure that jupyter and matplotlib know where to put the plot\n",
    "%matplotlib inline"
   ]
  },
  {
   "cell_type": "code",
   "execution_count": 42,
   "metadata": {},
   "outputs": [
    {
     "data": {
      "text/plain": [
       "[<matplotlib.lines.Line2D at 0x7f0c725262b0>]"
      ]
     },
     "execution_count": 42,
     "metadata": {},
     "output_type": "execute_result"
    },
    {
     "data": {
      "image/png": "[encoded data removed]",
      "text/plain": [
       "<matplotlib.figure.Figure at 0x7f0c744e50b8>"
      ]
     },
     "metadata": {},
     "output_type": "display_data"
    }
   ],
   "source": [
    "plt.plot(range(4000),data)"
   ]
  },
  {
   "cell_type": "code",
   "execution_count": null,
   "metadata": {},
   "outputs": [],
   "source": []
  },
  {
   "cell_type": "code",
   "execution_count": null,
   "metadata": {},
   "outputs": [],
   "source": []
  }
 ],
 "metadata": {
  "kernelspec": {
   "display_name": "Python 3",
   "language": "python",
   "name": "python3"
  },
  "language_info": {
   "codemirror_mode": {
    "name": "ipython",
    "version": 3
   },
   "file_extension": ".py",
   "mimetype": "text/x-python",
   "name": "python",
   "nbconvert_exporter": "python",
   "pygments_lexer": "ipython3",
   "version": "3.7.2"
  }
 },
 "nbformat": 4,
 "nbformat_minor": 2
}

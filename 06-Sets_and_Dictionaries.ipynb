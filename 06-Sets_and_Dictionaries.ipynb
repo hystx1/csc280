{
 "cells": [
  {
   "cell_type": "markdown",
   "metadata": {},
   "source": [
    "# CSC280, Introduction to Computer Science I\n",
    "## Prof. Adam C. Knapp\n",
    "## Sets and Dictionaries\n",
    "\n",
    "There are two more basic data structures in Python. The first one that we will look at is called a \"set\". Sets are the mathematical objects which encode the idea of membership. That means that any given thing can either be in the set or not in the set. (But you can't be in the set more than once.)\n"
   ]
  },
  {
   "cell_type": "markdown",
   "metadata": {},
   "source": [
    "### Sets (`set`s)\n",
    "Let's make our first set, `s`:\n",
    "```\n",
    "s = set()\n",
    "```\n",
    "This set doesn't contain anything and is called the \"empty set\"."
   ]
  },
  {
   "cell_type": "code",
   "execution_count": null,
   "metadata": {},
   "outputs": [],
   "source": []
  },
  {
   "cell_type": "markdown",
   "metadata": {},
   "source": [
    "To add a single element to our set, we need to call the `add` method of `s`:\n",
    "```\n",
    "s.add(\"one\")\n",
    "```"
   ]
  },
  {
   "cell_type": "code",
   "execution_count": null,
   "metadata": {},
   "outputs": [],
   "source": []
  },
  {
   "cell_type": "markdown",
   "metadata": {},
   "source": [
    "Too see if our set really contains what we added, we can use the `in` operator:\n",
    "```\n",
    "'one' in s\n",
    "```"
   ]
  },
  {
   "cell_type": "code",
   "execution_count": null,
   "metadata": {},
   "outputs": [],
   "source": []
  },
  {
   "cell_type": "markdown",
   "metadata": {},
   "source": [
    "Is there anything else in there?\n",
    "```\n",
    "'two' in s\n",
    "```"
   ]
  },
  {
   "cell_type": "code",
   "execution_count": null,
   "metadata": {},
   "outputs": [],
   "source": []
  },
  {
   "cell_type": "markdown",
   "metadata": {},
   "source": [
    "What happens when we try to add something twice to a set?\n",
    "```\n",
    "s.add('two')\n",
    "s.add('two')\n",
    "s\n",
    "```"
   ]
  },
  {
   "cell_type": "code",
   "execution_count": null,
   "metadata": {},
   "outputs": [],
   "source": []
  },
  {
   "cell_type": "markdown",
   "metadata": {},
   "source": [
    "We can also create sets using comprehensions, just like we did with lists\n",
    "```\n",
    "vowels = {'a', 'e', 'i', 'o', 'u'}\n",
    "non_vowels = {x for x in 'abracadabra' if x not in vowels}\n",
    "```\n",
    "What letters are in `non_vowels`?"
   ]
  },
  {
   "cell_type": "code",
   "execution_count": null,
   "metadata": {},
   "outputs": [],
   "source": []
  },
  {
   "cell_type": "code",
   "execution_count": null,
   "metadata": {},
   "outputs": [],
   "source": []
  },
  {
   "cell_type": "markdown",
   "metadata": {},
   "source": [
    "Sets support a kind of ordering (called a partial ordering) by inclusion. For example, check that \n",
    "```\n",
    "{'a'} < {'a', 'b'}\n",
    "```\n",
    "is true, and that \n",
    "```\n",
    "{'b'} < {'a', 'b'}\n",
    "```\n",
    "is true. "
   ]
  },
  {
   "cell_type": "code",
   "execution_count": null,
   "metadata": {},
   "outputs": [],
   "source": []
  },
  {
   "cell_type": "code",
   "execution_count": null,
   "metadata": {},
   "outputs": [],
   "source": []
  },
  {
   "cell_type": "markdown",
   "metadata": {},
   "source": [
    "When we order *numbers*, we always know that at least one of `x<y`, `x==y`, or `x>y` is true. Is something similar true here? Is at least one of\n",
    "```\n",
    "{'a'} < {'b'}\n",
    "{'a'} == {'b'}\n",
    "{'a'} > {'b'}\n",
    "```\n",
    "true?"
   ]
  },
  {
   "cell_type": "code",
   "execution_count": null,
   "metadata": {},
   "outputs": [],
   "source": []
  },
  {
   "cell_type": "code",
   "execution_count": null,
   "metadata": {},
   "outputs": [],
   "source": []
  },
  {
   "cell_type": "code",
   "execution_count": null,
   "metadata": {},
   "outputs": [],
   "source": []
  },
  {
   "cell_type": "markdown",
   "metadata": {},
   "source": [
    "There are a few other useful operations on sets:\n",
    "\n",
    "1. *Union*: The union of two sets, `s` and `t`, is the set of everything which is either in `s` *or* in `t` *or* is in both.\n",
    "\n",
    "1. *Intersection*: The intersection of two sets, `s` and `t`, is the set of everything which is both in `s` *and* in `t`.\n",
    "\n",
    "1. *Difference*: The difference, `s-t`, of two sets `s` and `t`, is the set of everything which is in `s` *but not* in `t`.\n"
   ]
  },
  {
   "cell_type": "markdown",
   "metadata": {},
   "source": [
    "In order to take the union of two sets, we use the `union` method or the or operator `|`\n",
    "\n",
    "Try lines below\n",
    "```\n",
    "{'a'} | {'b'}\n",
    "```\n",
    "and\n",
    "```\n",
    "s = {'a', 'b', 'c'}\n",
    "t = {'c', 'd', 'e'}\n",
    "s.union(t)\n",
    "```"
   ]
  },
  {
   "cell_type": "code",
   "execution_count": null,
   "metadata": {},
   "outputs": [],
   "source": []
  },
  {
   "cell_type": "code",
   "execution_count": null,
   "metadata": {},
   "outputs": [],
   "source": []
  },
  {
   "cell_type": "markdown",
   "metadata": {},
   "source": [
    "Now, when you wrote `s.union(t)`, did `s` change? Evaluate `s` to check."
   ]
  },
  {
   "cell_type": "code",
   "execution_count": null,
   "metadata": {},
   "outputs": [],
   "source": []
  },
  {
   "cell_type": "markdown",
   "metadata": {},
   "source": [
    "Let's use those same sets to find the intersection. Try\n",
    "```\n",
    "s.intersect(t)\n",
    "```"
   ]
  },
  {
   "cell_type": "code",
   "execution_count": null,
   "metadata": {},
   "outputs": [],
   "source": []
  },
  {
   "cell_type": "markdown",
   "metadata": {},
   "source": [
    "Now, what about the difference?\n",
    "```\n",
    "s-t\n",
    "```\n",
    "or alternatively\n",
    "```\n",
    "s.difference(t)\n",
    "```"
   ]
  },
  {
   "cell_type": "code",
   "execution_count": null,
   "metadata": {},
   "outputs": [],
   "source": []
  },
  {
   "cell_type": "markdown",
   "metadata": {},
   "source": [
    "Below, I have written definitions for 3 `set`s consisting of the numbers between 0 and 100, inclusive, which are divisible by 2, 3, and 5. Use these `set`s to get the sets of all whole numbers (in $[0,100]$) which are divisible by 2 **or** 5, but **not** 3.\n",
    "```\n",
    "div_by_2 = { n for n in range(101) if n % 2 == 0}\n",
    "div_by_3 = { n for n in range(101) if n % 3 == 0}\n",
    "div_by_5 = { n for n in range(101) if n % 5 == 0}\n",
    "```"
   ]
  },
  {
   "cell_type": "code",
   "execution_count": null,
   "metadata": {},
   "outputs": [],
   "source": []
  },
  {
   "cell_type": "code",
   "execution_count": null,
   "metadata": {},
   "outputs": [],
   "source": []
  },
  {
   "cell_type": "markdown",
   "metadata": {},
   "source": [
    "How many of these numbers are there anyway? Use the `len` function on the set you created to find out."
   ]
  },
  {
   "cell_type": "code",
   "execution_count": null,
   "metadata": {},
   "outputs": [],
   "source": []
  },
  {
   "cell_type": "markdown",
   "metadata": {},
   "source": [
    "We can create `set`s from any iterable object. For example, try\n",
    "```\n",
    "set('abracadabra')\n",
    "```"
   ]
  },
  {
   "cell_type": "code",
   "execution_count": null,
   "metadata": {},
   "outputs": [],
   "source": []
  },
  {
   "cell_type": "markdown",
   "metadata": {},
   "source": [
    "### Dictionaries (`dict`'s)\n",
    "\n",
    "Dictionaries are an example of what is sometimes called a key/value store. That mean that they are a way of associating a \"value\" to a \"key\". (If you like, you can think of it as a very elementary database.)\n",
    "\n",
    "In some ways, this is similar to what we had for `list`s. In a list, each entry had an index and you could look up or set a value using that index. For example:\n",
    "```\n",
    "l = ['a', 'b', 'c']\n",
    "l[0] = 'd'\n",
    "```\n",
    "Then `l == ['d', 'b', 'c']`. \n",
    "\n",
    "For dictionaries, we don't need the keys to be integers. (Though they could be!) For example, we could use our dictionary to keep track of a character in a game:\n",
    "```\n",
    "d = dict()\n",
    "d['weapon'] = 'dagger'\n",
    "```\n",
    "We could have done the same thing using another syntax:\n",
    "```\n",
    "d = { 'weapon': 'dagger' }\n",
    "```"
   ]
  },
  {
   "cell_type": "markdown",
   "metadata": {},
   "source": [
    "**Create a `dict`** which describes the character more fully."
   ]
  },
  {
   "cell_type": "code",
   "execution_count": null,
   "metadata": {},
   "outputs": [],
   "source": []
  },
  {
   "cell_type": "markdown",
   "metadata": {},
   "source": [
    "Sometimes we want to step through the entries of a `dict`. There are several ways of doing this.\n",
    "\n",
    "Suppose that we wanted to translate English words into numbers, we might start out with a dictionary like this:\n",
    "```\n",
    "word_to_int = { 'zero': 0, 'one': 1, 'two': 2, 'three': 3, 'four': 4,\n",
    "                'five': 5, 'six': 6, 'seven': 7, 'eight': 8, 'nine': 9, 'ten': 10 }\n",
    "```\n",
    "We might want to know if we can translate `'seven'` using this `dict`.\n",
    "\n",
    "**Try**:\n",
    "```\n",
    "'seven' in word_to_int\n",
    "```"
   ]
  },
  {
   "cell_type": "code",
   "execution_count": null,
   "metadata": {},
   "outputs": [],
   "source": []
  },
  {
   "cell_type": "markdown",
   "metadata": {},
   "source": [
    "Great, looks like we can! What is the value of `'seven'`, anyway?\n",
    "\n",
    "**Try**:\n",
    "```\n",
    "word_to_int['seven']\n",
    "```"
   ]
  },
  {
   "cell_type": "code",
   "execution_count": null,
   "metadata": {},
   "outputs": [],
   "source": []
  },
  {
   "cell_type": "markdown",
   "metadata": {},
   "source": [
    "Can we translate `'one hundred'`?\n",
    "\n",
    "**Try**:\n",
    "```\n",
    "'one hundred' in word_to_int\n",
    "```"
   ]
  },
  {
   "cell_type": "code",
   "execution_count": null,
   "metadata": {},
   "outputs": [],
   "source": []
  },
  {
   "cell_type": "markdown",
   "metadata": {},
   "source": [
    "What about the values? **Try**:\n",
    "```\n",
    "8 in word_to_int\n",
    "```"
   ]
  },
  {
   "cell_type": "code",
   "execution_count": null,
   "metadata": {},
   "outputs": [],
   "source": []
  },
  {
   "cell_type": "markdown",
   "metadata": {},
   "source": [
    "Looks like `in` only tests for the keys. Do we have a way of getting a \"list\" of the keys? Yep, we do:\n",
    "```\n",
    "word_to_int.keys()\n",
    "```"
   ]
  },
  {
   "cell_type": "code",
   "execution_count": null,
   "metadata": {},
   "outputs": [],
   "source": []
  },
  {
   "cell_type": "markdown",
   "metadata": {},
   "source": [
    "Notice that this isn't exactly a `list`, it's a `dict_keys` object. You can double check that this is true by\n",
    "```\n",
    "type( word_to_int.keys() )\n",
    "```"
   ]
  },
  {
   "cell_type": "code",
   "execution_count": null,
   "metadata": {},
   "outputs": [],
   "source": []
  },
  {
   "cell_type": "markdown",
   "metadata": {},
   "source": [
    "What can you do with a `dict_keys`? Well, you can't index it. **Try**:\n",
    "```\n",
    "keys = word_to_int.keys()\n",
    "keys[0]\n",
    "```"
   ]
  },
  {
   "cell_type": "code",
   "execution_count": null,
   "metadata": {},
   "outputs": [],
   "source": []
  },
  {
   "cell_type": "markdown",
   "metadata": {},
   "source": [
    "You _can_ iterate over it, though. **Try**:\n",
    "```\n",
    "for k in keys:\n",
    "    print(k)\n",
    "```"
   ]
  },
  {
   "cell_type": "code",
   "execution_count": null,
   "metadata": {},
   "outputs": [],
   "source": []
  },
  {
   "cell_type": "markdown",
   "metadata": {},
   "source": [
    "Can you get the values? **Try**:\n",
    "```\n",
    "word_to_int.values()\n",
    "```"
   ]
  },
  {
   "cell_type": "code",
   "execution_count": null,
   "metadata": {},
   "outputs": [],
   "source": []
  },
  {
   "cell_type": "markdown",
   "metadata": {},
   "source": [
    "It isn't a regular list either; it is a `dict_values`. A `dict_values` acts a lot like a `dict_keys`; you can't index it, but you can iterate over it.\n",
    "\n",
    "\n",
    "Another useful thing is to iterate over both key/values. You can do it this way:\n",
    "```\n",
    "for (k,v) in word_to_int.items():\n",
    "    print(k,v)\n",
    "```"
   ]
  },
  {
   "cell_type": "code",
   "execution_count": null,
   "metadata": {},
   "outputs": [],
   "source": []
  },
  {
   "cell_type": "markdown",
   "metadata": {},
   "source": [
    "There is actually a similar thing you can do with `list`s: \n",
    "```\n",
    "nums = [1, 2, 3]\n",
    "chrs = ['a', 'b', 'c']\n",
    "for i,n in zip(nums, chrs):\n",
    "    print(i,n)\n",
    "```\n",
    "**Try it**"
   ]
  },
  {
   "cell_type": "code",
   "execution_count": null,
   "metadata": {},
   "outputs": [],
   "source": []
  },
  {
   "cell_type": "markdown",
   "metadata": {},
   "source": [
    "There is actually a whole Python library which includes many similar functions related to looping over `list`s / `sets` / etc. It is called [`itertools`](https://docs.python.org/3/library/itertools.html) and it is worth browsing the included functions to see what is available."
   ]
  },
  {
   "cell_type": "code",
   "execution_count": null,
   "metadata": {},
   "outputs": [],
   "source": []
  }
 ],
 "metadata": {
  "kernelspec": {
   "display_name": "Python 3",
   "language": "python",
   "name": "python3"
  },
  "language_info": {
   "codemirror_mode": {
    "name": "ipython",
    "version": 3
   },
   "file_extension": ".py",
   "mimetype": "text/x-python",
   "name": "python",
   "nbconvert_exporter": "python",
   "pygments_lexer": "ipython3",
   "version": "3.7.2+"
  }
 },
 "nbformat": 4,
 "nbformat_minor": 2
}
